{
 "cells": [
  {
   "cell_type": "code",
   "execution_count": 1,
   "id": "95c8b14f",
   "metadata": {
    "_cell_guid": "b1076dfc-b9ad-4769-8c92-a6c4dae69d19",
    "_uuid": "8f2839f25d086af736a60e9eeb907d3b93b6e0e5",
    "execution": {
     "iopub.execute_input": "2023-06-03T14:12:49.884063Z",
     "iopub.status.busy": "2023-06-03T14:12:49.883679Z",
     "iopub.status.idle": "2023-06-03T14:12:49.900296Z",
     "shell.execute_reply": "2023-06-03T14:12:49.899615Z"
    },
    "papermill": {
     "duration": 0.024557,
     "end_time": "2023-06-03T14:12:49.902546",
     "exception": false,
     "start_time": "2023-06-03T14:12:49.877989",
     "status": "completed"
    },
    "tags": []
   },
   "outputs": [
    {
     "name": "stdout",
     "output_type": "stream",
     "text": [
      "/kaggle/input/cars-data/2. Cars Data1.csv\n"
     ]
    }
   ],
   "source": [
    "# This Python 3 environment comes with many helpful analytics libraries installed\n",
    "# It is defined by the kaggle/python Docker image: https://github.com/kaggle/docker-python\n",
    "# For example, here's several helpful packages to load\n",
    "\n",
    "import numpy as np # linear algebra\n",
    "import pandas as pd # data processing, CSV file I/O (e.g. pd.read_csv)\n",
    "\n",
    "# Input data files are available in the read-only \"../input/\" directory\n",
    "# For example, running this (by clicking run or pressing Shift+Enter) will list all files under the input directory\n",
    "\n",
    "import os\n",
    "for dirname, _, filenames in os.walk('/kaggle/input'):\n",
    "    for filename in filenames:\n",
    "        print(os.path.join(dirname, filename))\n",
    "\n",
    "# You can write up to 20GB to the current directory (/kaggle/working/) that gets preserved as output when you create a version using \"Save & Run All\" \n",
    "# You can also write temporary files to /kaggle/temp/, but they won't be saved outside of the current session"
   ]
  },
  {
   "cell_type": "code",
   "execution_count": 2,
   "id": "a5c9f546",
   "metadata": {
    "execution": {
     "iopub.execute_input": "2023-06-03T14:12:49.912554Z",
     "iopub.status.busy": "2023-06-03T14:12:49.911855Z",
     "iopub.status.idle": "2023-06-03T14:12:51.607898Z",
     "shell.execute_reply": "2023-06-03T14:12:51.606189Z"
    },
    "papermill": {
     "duration": 1.70421,
     "end_time": "2023-06-03T14:12:51.610756",
     "exception": false,
     "start_time": "2023-06-03T14:12:49.906546",
     "status": "completed"
    },
    "tags": []
   },
   "outputs": [],
   "source": [
    "import pandas as pd\n",
    "import numpy as np\n",
    "import matplotlib.pyplot as pt\n",
    "import matplotlib.cm as cm\n",
    "import seaborn as sns\n",
    "import random\n",
    "from wordcloud import WordCloud"
   ]
  },
  {
   "cell_type": "code",
   "execution_count": 3,
   "id": "e84b40ae",
   "metadata": {
    "execution": {
     "iopub.execute_input": "2023-06-03T14:12:51.622650Z",
     "iopub.status.busy": "2023-06-03T14:12:51.621653Z",
     "iopub.status.idle": "2023-06-03T14:12:51.644464Z",
     "shell.execute_reply": "2023-06-03T14:12:51.643638Z"
    },
    "papermill": {
     "duration": 0.030919,
     "end_time": "2023-06-03T14:12:51.646741",
     "exception": false,
     "start_time": "2023-06-03T14:12:51.615822",
     "status": "completed"
    },
    "tags": []
   },
   "outputs": [],
   "source": [
    "cars_db = pd.read_csv(\"/kaggle/input/cars-data/2. Cars Data1.csv\")"
   ]
  },
  {
   "cell_type": "code",
   "execution_count": 4,
   "id": "111a4de6",
   "metadata": {
    "execution": {
     "iopub.execute_input": "2023-06-03T14:12:51.657303Z",
     "iopub.status.busy": "2023-06-03T14:12:51.655803Z",
     "iopub.status.idle": "2023-06-03T14:12:51.705228Z",
     "shell.execute_reply": "2023-06-03T14:12:51.704210Z"
    },
    "papermill": {
     "duration": 0.056868,
     "end_time": "2023-06-03T14:12:51.707480",
     "exception": false,
     "start_time": "2023-06-03T14:12:51.650612",
     "status": "completed"
    },
    "tags": []
   },
   "outputs": [
    {
     "data": {
      "text/html": [
       "<div>\n",
       "<style scoped>\n",
       "    .dataframe tbody tr th:only-of-type {\n",
       "        vertical-align: middle;\n",
       "    }\n",
       "\n",
       "    .dataframe tbody tr th {\n",
       "        vertical-align: top;\n",
       "    }\n",
       "\n",
       "    .dataframe thead th {\n",
       "        text-align: right;\n",
       "    }\n",
       "</style>\n",
       "<table border=\"1\" class=\"dataframe\">\n",
       "  <thead>\n",
       "    <tr style=\"text-align: right;\">\n",
       "      <th></th>\n",
       "      <th>Make</th>\n",
       "      <th>Model</th>\n",
       "      <th>Type</th>\n",
       "      <th>Origin</th>\n",
       "      <th>DriveTrain</th>\n",
       "      <th>MSRP</th>\n",
       "      <th>Invoice</th>\n",
       "      <th>EngineSize</th>\n",
       "      <th>Cylinders</th>\n",
       "      <th>Horsepower</th>\n",
       "      <th>MPG_City</th>\n",
       "      <th>MPG_Highway</th>\n",
       "      <th>Weight</th>\n",
       "      <th>Wheelbase</th>\n",
       "      <th>Length</th>\n",
       "    </tr>\n",
       "  </thead>\n",
       "  <tbody>\n",
       "    <tr>\n",
       "      <th>0</th>\n",
       "      <td>Acura</td>\n",
       "      <td>MDX</td>\n",
       "      <td>SUV</td>\n",
       "      <td>Asia</td>\n",
       "      <td>All</td>\n",
       "      <td>$36,945</td>\n",
       "      <td>$33,337</td>\n",
       "      <td>3.5</td>\n",
       "      <td>6.0</td>\n",
       "      <td>265.0</td>\n",
       "      <td>17.0</td>\n",
       "      <td>23.0</td>\n",
       "      <td>4451.0</td>\n",
       "      <td>106.0</td>\n",
       "      <td>189.0</td>\n",
       "    </tr>\n",
       "    <tr>\n",
       "      <th>1</th>\n",
       "      <td>Acura</td>\n",
       "      <td>RSX Type S 2dr</td>\n",
       "      <td>Sedan</td>\n",
       "      <td>Asia</td>\n",
       "      <td>Front</td>\n",
       "      <td>$23,820</td>\n",
       "      <td>$21,761</td>\n",
       "      <td>2.0</td>\n",
       "      <td>4.0</td>\n",
       "      <td>200.0</td>\n",
       "      <td>24.0</td>\n",
       "      <td>31.0</td>\n",
       "      <td>2778.0</td>\n",
       "      <td>101.0</td>\n",
       "      <td>172.0</td>\n",
       "    </tr>\n",
       "    <tr>\n",
       "      <th>2</th>\n",
       "      <td>Acura</td>\n",
       "      <td>TSX 4dr</td>\n",
       "      <td>Sedan</td>\n",
       "      <td>Asia</td>\n",
       "      <td>Front</td>\n",
       "      <td>$26,990</td>\n",
       "      <td>$24,647</td>\n",
       "      <td>2.4</td>\n",
       "      <td>4.0</td>\n",
       "      <td>200.0</td>\n",
       "      <td>22.0</td>\n",
       "      <td>29.0</td>\n",
       "      <td>3230.0</td>\n",
       "      <td>105.0</td>\n",
       "      <td>183.0</td>\n",
       "    </tr>\n",
       "    <tr>\n",
       "      <th>3</th>\n",
       "      <td>Acura</td>\n",
       "      <td>TL 4dr</td>\n",
       "      <td>Sedan</td>\n",
       "      <td>Asia</td>\n",
       "      <td>Front</td>\n",
       "      <td>$33,195</td>\n",
       "      <td>$30,299</td>\n",
       "      <td>3.2</td>\n",
       "      <td>6.0</td>\n",
       "      <td>270.0</td>\n",
       "      <td>20.0</td>\n",
       "      <td>28.0</td>\n",
       "      <td>3575.0</td>\n",
       "      <td>108.0</td>\n",
       "      <td>186.0</td>\n",
       "    </tr>\n",
       "    <tr>\n",
       "      <th>4</th>\n",
       "      <td>Acura</td>\n",
       "      <td>3.5 RL 4dr</td>\n",
       "      <td>Sedan</td>\n",
       "      <td>Asia</td>\n",
       "      <td>Front</td>\n",
       "      <td>$43,755</td>\n",
       "      <td>$39,014</td>\n",
       "      <td>3.5</td>\n",
       "      <td>6.0</td>\n",
       "      <td>225.0</td>\n",
       "      <td>18.0</td>\n",
       "      <td>24.0</td>\n",
       "      <td>3880.0</td>\n",
       "      <td>115.0</td>\n",
       "      <td>197.0</td>\n",
       "    </tr>\n",
       "  </tbody>\n",
       "</table>\n",
       "</div>"
      ],
      "text/plain": [
       "    Make           Model   Type Origin DriveTrain      MSRP   Invoice  \\\n",
       "0  Acura             MDX    SUV   Asia        All  $36,945   $33,337    \n",
       "1  Acura  RSX Type S 2dr  Sedan   Asia      Front  $23,820   $21,761    \n",
       "2  Acura         TSX 4dr  Sedan   Asia      Front  $26,990   $24,647    \n",
       "3  Acura          TL 4dr  Sedan   Asia      Front  $33,195   $30,299    \n",
       "4  Acura      3.5 RL 4dr  Sedan   Asia      Front  $43,755   $39,014    \n",
       "\n",
       "   EngineSize  Cylinders  Horsepower  MPG_City  MPG_Highway  Weight  \\\n",
       "0         3.5        6.0       265.0      17.0         23.0  4451.0   \n",
       "1         2.0        4.0       200.0      24.0         31.0  2778.0   \n",
       "2         2.4        4.0       200.0      22.0         29.0  3230.0   \n",
       "3         3.2        6.0       270.0      20.0         28.0  3575.0   \n",
       "4         3.5        6.0       225.0      18.0         24.0  3880.0   \n",
       "\n",
       "   Wheelbase  Length  \n",
       "0      106.0   189.0  \n",
       "1      101.0   172.0  \n",
       "2      105.0   183.0  \n",
       "3      108.0   186.0  \n",
       "4      115.0   197.0  "
      ]
     },
     "execution_count": 4,
     "metadata": {},
     "output_type": "execute_result"
    }
   ],
   "source": [
    "cars_db.head()"
   ]
  },
  {
   "cell_type": "code",
   "execution_count": 5,
   "id": "ed679ade",
   "metadata": {
    "execution": {
     "iopub.execute_input": "2023-06-03T14:12:51.719571Z",
     "iopub.status.busy": "2023-06-03T14:12:51.719137Z",
     "iopub.status.idle": "2023-06-03T14:12:51.725986Z",
     "shell.execute_reply": "2023-06-03T14:12:51.725090Z"
    },
    "papermill": {
     "duration": 0.014922,
     "end_time": "2023-06-03T14:12:51.727956",
     "exception": false,
     "start_time": "2023-06-03T14:12:51.713034",
     "status": "completed"
    },
    "tags": []
   },
   "outputs": [
    {
     "data": {
      "text/plain": [
       "(432, 15)"
      ]
     },
     "execution_count": 5,
     "metadata": {},
     "output_type": "execute_result"
    }
   ],
   "source": [
    "cars_db.shape"
   ]
  },
  {
   "cell_type": "code",
   "execution_count": 6,
   "id": "9efaab39",
   "metadata": {
    "execution": {
     "iopub.execute_input": "2023-06-03T14:12:51.741736Z",
     "iopub.status.busy": "2023-06-03T14:12:51.741098Z",
     "iopub.status.idle": "2023-06-03T14:12:51.781729Z",
     "shell.execute_reply": "2023-06-03T14:12:51.779752Z"
    },
    "papermill": {
     "duration": 0.051747,
     "end_time": "2023-06-03T14:12:51.785685",
     "exception": false,
     "start_time": "2023-06-03T14:12:51.733938",
     "status": "completed"
    },
    "tags": []
   },
   "outputs": [
    {
     "name": "stdout",
     "output_type": "stream",
     "text": [
      "<class 'pandas.core.frame.DataFrame'>\n",
      "RangeIndex: 432 entries, 0 to 431\n",
      "Data columns (total 15 columns):\n",
      " #   Column       Non-Null Count  Dtype  \n",
      "---  ------       --------------  -----  \n",
      " 0   Make         428 non-null    object \n",
      " 1   Model        428 non-null    object \n",
      " 2   Type         428 non-null    object \n",
      " 3   Origin       428 non-null    object \n",
      " 4   DriveTrain   428 non-null    object \n",
      " 5   MSRP         428 non-null    object \n",
      " 6   Invoice      428 non-null    object \n",
      " 7   EngineSize   428 non-null    float64\n",
      " 8   Cylinders    426 non-null    float64\n",
      " 9   Horsepower   428 non-null    float64\n",
      " 10  MPG_City     428 non-null    float64\n",
      " 11  MPG_Highway  428 non-null    float64\n",
      " 12  Weight       428 non-null    float64\n",
      " 13  Wheelbase    428 non-null    float64\n",
      " 14  Length       428 non-null    float64\n",
      "dtypes: float64(8), object(7)\n",
      "memory usage: 50.8+ KB\n"
     ]
    }
   ],
   "source": [
    "cars_db.info()"
   ]
  },
  {
   "cell_type": "code",
   "execution_count": 7,
   "id": "3293c35f",
   "metadata": {
    "execution": {
     "iopub.execute_input": "2023-06-03T14:12:51.800850Z",
     "iopub.status.busy": "2023-06-03T14:12:51.799884Z",
     "iopub.status.idle": "2023-06-03T14:12:51.806399Z",
     "shell.execute_reply": "2023-06-03T14:12:51.805537Z"
    },
    "papermill": {
     "duration": 0.014552,
     "end_time": "2023-06-03T14:12:51.808275",
     "exception": false,
     "start_time": "2023-06-03T14:12:51.793723",
     "status": "completed"
    },
    "tags": []
   },
   "outputs": [
    {
     "data": {
      "text/plain": [
       "Index(['Make', 'Model', 'Type', 'Origin', 'DriveTrain', 'MSRP', 'Invoice',\n",
       "       'EngineSize', 'Cylinders', 'Horsepower', 'MPG_City', 'MPG_Highway',\n",
       "       'Weight', 'Wheelbase', 'Length'],\n",
       "      dtype='object')"
      ]
     },
     "execution_count": 7,
     "metadata": {},
     "output_type": "execute_result"
    }
   ],
   "source": [
    "cars_db.columns"
   ]
  },
  {
   "cell_type": "code",
   "execution_count": 8,
   "id": "21da627b",
   "metadata": {
    "execution": {
     "iopub.execute_input": "2023-06-03T14:12:51.818835Z",
     "iopub.status.busy": "2023-06-03T14:12:51.818504Z",
     "iopub.status.idle": "2023-06-03T14:12:51.827901Z",
     "shell.execute_reply": "2023-06-03T14:12:51.827085Z"
    },
    "papermill": {
     "duration": 0.016875,
     "end_time": "2023-06-03T14:12:51.829607",
     "exception": false,
     "start_time": "2023-06-03T14:12:51.812732",
     "status": "completed"
    },
    "tags": []
   },
   "outputs": [
    {
     "data": {
      "text/plain": [
       "Make            38\n",
       "Model          425\n",
       "Type             6\n",
       "Origin           3\n",
       "DriveTrain       3\n",
       "MSRP           410\n",
       "Invoice        425\n",
       "EngineSize      43\n",
       "Cylinders        7\n",
       "Horsepower     110\n",
       "MPG_City        28\n",
       "MPG_Highway     33\n",
       "Weight         348\n",
       "Wheelbase       40\n",
       "Length          67\n",
       "dtype: int64"
      ]
     },
     "execution_count": 8,
     "metadata": {},
     "output_type": "execute_result"
    }
   ],
   "source": [
    "cars_db.nunique()"
   ]
  },
  {
   "cell_type": "code",
   "execution_count": 9,
   "id": "9852cb5b",
   "metadata": {
    "execution": {
     "iopub.execute_input": "2023-06-03T14:12:51.839994Z",
     "iopub.status.busy": "2023-06-03T14:12:51.839380Z",
     "iopub.status.idle": "2023-06-03T14:12:51.852823Z",
     "shell.execute_reply": "2023-06-03T14:12:51.852086Z"
    },
    "papermill": {
     "duration": 0.020472,
     "end_time": "2023-06-03T14:12:51.854512",
     "exception": false,
     "start_time": "2023-06-03T14:12:51.834040",
     "status": "completed"
    },
    "tags": []
   },
   "outputs": [
    {
     "data": {
      "text/plain": [
       "<bound method DataFrame.isnull of       Make                    Model   Type  Origin DriveTrain      MSRP  \\\n",
       "0    Acura                      MDX    SUV    Asia        All  $36,945    \n",
       "1    Acura           RSX Type S 2dr  Sedan    Asia      Front  $23,820    \n",
       "2    Acura                  TSX 4dr  Sedan    Asia      Front  $26,990    \n",
       "3    Acura                   TL 4dr  Sedan    Asia      Front  $33,195    \n",
       "4    Acura               3.5 RL 4dr  Sedan    Asia      Front  $43,755    \n",
       "..     ...                      ...    ...     ...        ...       ...   \n",
       "427  Volvo  C70 LPT convertible 2dr  Sedan  Europe      Front  $40,565    \n",
       "428  Volvo  C70 HPT convertible 2dr  Sedan  Europe      Front  $42,565    \n",
       "429  Volvo               S80 T6 4dr  Sedan  Europe      Front  $45,210    \n",
       "430  Volvo                      V40  Wagon  Europe      Front  $26,135    \n",
       "431  Volvo                     XC70  Wagon  Europe        All  $35,145    \n",
       "\n",
       "      Invoice  EngineSize  Cylinders  Horsepower  MPG_City  MPG_Highway  \\\n",
       "0    $33,337          3.5        6.0       265.0      17.0         23.0   \n",
       "1    $21,761          2.0        4.0       200.0      24.0         31.0   \n",
       "2    $24,647          2.4        4.0       200.0      22.0         29.0   \n",
       "3    $30,299          3.2        6.0       270.0      20.0         28.0   \n",
       "4    $39,014          3.5        6.0       225.0      18.0         24.0   \n",
       "..        ...         ...        ...         ...       ...          ...   \n",
       "427  $38,203          2.4        5.0       197.0      21.0         28.0   \n",
       "428  $40,083          2.3        5.0       242.0      20.0         26.0   \n",
       "429  $42,573          2.9        6.0       268.0      19.0         26.0   \n",
       "430  $24,641          1.9        4.0       170.0      22.0         29.0   \n",
       "431  $33,112          2.5        5.0       208.0      20.0         27.0   \n",
       "\n",
       "     Weight  Wheelbase  Length  \n",
       "0    4451.0      106.0   189.0  \n",
       "1    2778.0      101.0   172.0  \n",
       "2    3230.0      105.0   183.0  \n",
       "3    3575.0      108.0   186.0  \n",
       "4    3880.0      115.0   197.0  \n",
       "..      ...        ...     ...  \n",
       "427  3450.0      105.0   186.0  \n",
       "428  3450.0      105.0   186.0  \n",
       "429  3653.0      110.0   190.0  \n",
       "430  2822.0      101.0   180.0  \n",
       "431  3823.0      109.0   186.0  \n",
       "\n",
       "[432 rows x 15 columns]>"
      ]
     },
     "execution_count": 9,
     "metadata": {},
     "output_type": "execute_result"
    }
   ],
   "source": [
    "cars_db.isnull"
   ]
  },
  {
   "cell_type": "code",
   "execution_count": 10,
   "id": "cc8bf2cd",
   "metadata": {
    "execution": {
     "iopub.execute_input": "2023-06-03T14:12:51.864730Z",
     "iopub.status.busy": "2023-06-03T14:12:51.864188Z",
     "iopub.status.idle": "2023-06-03T14:12:51.871331Z",
     "shell.execute_reply": "2023-06-03T14:12:51.870745Z"
    },
    "papermill": {
     "duration": 0.01398,
     "end_time": "2023-06-03T14:12:51.872925",
     "exception": false,
     "start_time": "2023-06-03T14:12:51.858945",
     "status": "completed"
    },
    "tags": []
   },
   "outputs": [
    {
     "data": {
      "text/plain": [
       "Make           4\n",
       "Model          4\n",
       "Type           4\n",
       "Origin         4\n",
       "DriveTrain     4\n",
       "MSRP           4\n",
       "Invoice        4\n",
       "EngineSize     4\n",
       "Cylinders      6\n",
       "Horsepower     4\n",
       "MPG_City       4\n",
       "MPG_Highway    4\n",
       "Weight         4\n",
       "Wheelbase      4\n",
       "Length         4\n",
       "dtype: int64"
      ]
     },
     "execution_count": 10,
     "metadata": {},
     "output_type": "execute_result"
    }
   ],
   "source": [
    "#Q. 1) Instruction ( For Data Cleaning ) - Find all Null Values in the dataset. If there is any null value in any column, then fill it with the mean of that column.\n",
    "\n",
    "cars_db.isnull().sum()"
   ]
  },
  {
   "cell_type": "code",
   "execution_count": 11,
   "id": "940410f6",
   "metadata": {
    "execution": {
     "iopub.execute_input": "2023-06-03T14:12:51.883549Z",
     "iopub.status.busy": "2023-06-03T14:12:51.882929Z",
     "iopub.status.idle": "2023-06-03T14:12:51.887753Z",
     "shell.execute_reply": "2023-06-03T14:12:51.887108Z"
    },
    "papermill": {
     "duration": 0.012205,
     "end_time": "2023-06-03T14:12:51.889638",
     "exception": false,
     "start_time": "2023-06-03T14:12:51.877433",
     "status": "completed"
    },
    "tags": []
   },
   "outputs": [],
   "source": [
    "cars_db['EngineSize'].fillna(cars_db['EngineSize'].mean(), inplace = True)"
   ]
  },
  {
   "cell_type": "code",
   "execution_count": 12,
   "id": "2a846f7a",
   "metadata": {
    "execution": {
     "iopub.execute_input": "2023-06-03T14:12:51.901066Z",
     "iopub.status.busy": "2023-06-03T14:12:51.900209Z",
     "iopub.status.idle": "2023-06-03T14:12:51.909241Z",
     "shell.execute_reply": "2023-06-03T14:12:51.908355Z"
    },
    "papermill": {
     "duration": 0.016558,
     "end_time": "2023-06-03T14:12:51.910892",
     "exception": false,
     "start_time": "2023-06-03T14:12:51.894334",
     "status": "completed"
    },
    "tags": []
   },
   "outputs": [
    {
     "data": {
      "text/plain": [
       "Make           4\n",
       "Model          4\n",
       "Type           4\n",
       "Origin         4\n",
       "DriveTrain     4\n",
       "MSRP           4\n",
       "Invoice        4\n",
       "EngineSize     0\n",
       "Cylinders      6\n",
       "Horsepower     4\n",
       "MPG_City       4\n",
       "MPG_Highway    4\n",
       "Weight         4\n",
       "Wheelbase      4\n",
       "Length         4\n",
       "dtype: int64"
      ]
     },
     "execution_count": 12,
     "metadata": {},
     "output_type": "execute_result"
    }
   ],
   "source": [
    "cars_db.isnull().sum()"
   ]
  },
  {
   "cell_type": "code",
   "execution_count": 13,
   "id": "1cca5b63",
   "metadata": {
    "execution": {
     "iopub.execute_input": "2023-06-03T14:12:51.922087Z",
     "iopub.status.busy": "2023-06-03T14:12:51.921749Z",
     "iopub.status.idle": "2023-06-03T14:12:51.929342Z",
     "shell.execute_reply": "2023-06-03T14:12:51.927870Z"
    },
    "papermill": {
     "duration": 0.016158,
     "end_time": "2023-06-03T14:12:51.931795",
     "exception": false,
     "start_time": "2023-06-03T14:12:51.915637",
     "status": "completed"
    },
    "tags": []
   },
   "outputs": [
    {
     "data": {
      "text/plain": [
       "Make            object\n",
       "Model           object\n",
       "Type            object\n",
       "Origin          object\n",
       "DriveTrain      object\n",
       "MSRP            object\n",
       "Invoice         object\n",
       "EngineSize     float64\n",
       "Cylinders      float64\n",
       "Horsepower     float64\n",
       "MPG_City       float64\n",
       "MPG_Highway    float64\n",
       "Weight         float64\n",
       "Wheelbase      float64\n",
       "Length         float64\n",
       "dtype: object"
      ]
     },
     "execution_count": 13,
     "metadata": {},
     "output_type": "execute_result"
    }
   ],
   "source": [
    "cars_db.dtypes"
   ]
  },
  {
   "cell_type": "code",
   "execution_count": 14,
   "id": "b5e1a38b",
   "metadata": {
    "execution": {
     "iopub.execute_input": "2023-06-03T14:12:51.943786Z",
     "iopub.status.busy": "2023-06-03T14:12:51.943284Z",
     "iopub.status.idle": "2023-06-03T14:12:51.954518Z",
     "shell.execute_reply": "2023-06-03T14:12:51.953355Z"
    },
    "papermill": {
     "duration": 0.019965,
     "end_time": "2023-06-03T14:12:51.956811",
     "exception": false,
     "start_time": "2023-06-03T14:12:51.936846",
     "status": "completed"
    },
    "tags": []
   },
   "outputs": [
    {
     "data": {
      "text/plain": [
       "Make           4\n",
       "Model          4\n",
       "Type           4\n",
       "Origin         4\n",
       "DriveTrain     4\n",
       "MSRP           4\n",
       "Invoice        4\n",
       "EngineSize     0\n",
       "Cylinders      6\n",
       "Horsepower     4\n",
       "MPG_City       4\n",
       "MPG_Highway    4\n",
       "Weight         4\n",
       "Wheelbase      4\n",
       "Length         4\n",
       "dtype: int64"
      ]
     },
     "execution_count": 14,
     "metadata": {},
     "output_type": "execute_result"
    }
   ],
   "source": [
    "cars_db.isnull().sum()"
   ]
  },
  {
   "cell_type": "code",
   "execution_count": 15,
   "id": "a3c14f9e",
   "metadata": {
    "execution": {
     "iopub.execute_input": "2023-06-03T14:12:51.968735Z",
     "iopub.status.busy": "2023-06-03T14:12:51.968331Z",
     "iopub.status.idle": "2023-06-03T14:12:51.974805Z",
     "shell.execute_reply": "2023-06-03T14:12:51.973728Z"
    },
    "papermill": {
     "duration": 0.014939,
     "end_time": "2023-06-03T14:12:51.976837",
     "exception": false,
     "start_time": "2023-06-03T14:12:51.961898",
     "status": "completed"
    },
    "tags": []
   },
   "outputs": [],
   "source": [
    "#Q. 1) Instruction ( For Data Cleaning ) - Find all Null Values in the dataset. If there is any null value in any column, then fill it with the mean of that column.\n",
    "\n",
    "cars_db['Length'].fillna(cars_db['Length'].mean(), inplace = True)"
   ]
  }
 ],
 "metadata": {
  "kernelspec": {
   "display_name": "Python 3",
   "language": "python",
   "name": "python3"
  },
  "language_info": {
   "codemirror_mode": {
    "name": "ipython",
    "version": 3
   },
   "file_extension": ".py",
   "mimetype": "text/x-python",
   "name": "python",
   "nbconvert_exporter": "python",
   "pygments_lexer": "ipython3",
   "version": "3.10.10"
  },
  "papermill": {
   "default_parameters": {},
   "duration": 13.19014,
   "end_time": "2023-06-03T14:12:53.004642",
   "environment_variables": {},
   "exception": null,
   "input_path": "__notebook__.ipynb",
   "output_path": "__notebook__.ipynb",
   "parameters": {},
   "start_time": "2023-06-03T14:12:39.814502",
   "version": "2.4.0"
  }
 },
 "nbformat": 4,
 "nbformat_minor": 5
}
